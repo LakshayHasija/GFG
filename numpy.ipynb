{
 "cells": [
  {
   "cell_type": "code",
   "execution_count": 2,
   "metadata": {},
   "outputs": [
    {
     "name": "stdout",
     "output_type": "stream",
     "text": [
      "[6 8 7 3 7 1 2 3 2 2]\n"
     ]
    }
   ],
   "source": [
    "import numpy as np\n",
    "arr=np.random.randint(1,10,10)\n",
    "print(arr)"
   ]
  },
  {
   "cell_type": "code",
   "execution_count": 8,
   "metadata": {},
   "outputs": [
    {
     "data": {
      "text/plain": [
       "(array([1., 0., 0., 1., 0., 0., 2., 1., 0., 0., 0., 0., 0., 1., 1., 0., 0.,\n",
       "        2., 0., 1.]),\n",
       " array([-0.72214703, -0.62567111, -0.5291952 , -0.43271928, -0.33624336,\n",
       "        -0.23976744, -0.14329152, -0.0468156 ,  0.04966032,  0.14613623,\n",
       "         0.24261215,  0.33908807,  0.43556399,  0.53203991,  0.62851583,\n",
       "         0.72499175,  0.82146767,  0.91794358,  1.0144195 ,  1.11089542,\n",
       "         1.20737134]),\n",
       " <BarContainer object of 20 artists>)"
      ]
     },
     "execution_count": 8,
     "metadata": {},
     "output_type": "execute_result"
    },
    {
     "data": {
      "image/png": "[encoded data removed]",
      "text/plain": [
       "<Figure size 640x480 with 1 Axes>"
      ]
     },
     "metadata": {},
     "output_type": "display_data"
    }
   ],
   "source": [
    "import matplotlib.pyplot as plt\n",
    "plt.hist(np.random.randn(10),bins=20)"
   ]
  },
  {
   "cell_type": "code",
   "execution_count": 16,
   "metadata": {},
   "outputs": [
    {
     "name": "stdout",
     "output_type": "stream",
     "text": [
      "[[ 1]\n",
      " [ 8]\n",
      " [12]\n",
      " [ 3]\n",
      " [ 9]\n",
      " [13]]\n"
     ]
    }
   ],
   "source": [
    "arr=np.random.randint(1,15,(6,1))\n",
    "print(arr)"
   ]
  },
  {
   "cell_type": "code",
   "execution_count": 17,
   "metadata": {},
   "outputs": [
    {
     "name": "stdout",
     "output_type": "stream",
     "text": [
      "(6, 1)\n"
     ]
    }
   ],
   "source": [
    "# arr=arr.flatten()\n",
    "print(arr.shape)"
   ]
  },
  {
   "cell_type": "code",
   "execution_count": 20,
   "metadata": {},
   "outputs": [
    {
     "data": {
      "text/plain": [
       "array([   10., 10000.])"
      ]
     },
     "execution_count": 20,
     "metadata": {},
     "output_type": "execute_result"
    }
   ],
   "source": [
    "np.logspace(1,4,2)"
   ]
  },
  {
   "cell_type": "code",
   "execution_count": 19,
   "metadata": {},
   "outputs": [
    {
     "name": "stdout",
     "output_type": "stream",
     "text": [
      "[[9 4 9 9 1]\n",
      " [6 4 6 8 7]\n",
      " [1 5 8 9 2]]\n",
      "----------\n",
      "[[10  5 10 10  2]\n",
      " [ 7  5  7  9  8]\n",
      " [ 2  6  9 10  3]]\n"
     ]
    }
   ],
   "source": [
    "np.random.seed(3)\n",
    "arr=np.random.randint(1,10,(3,5))\n",
    "print(arr)\n",
    "print(\"-\"*10)\n",
    "print(arr+1)"
   ]
  },
  {
   "cell_type": "code",
   "execution_count": 21,
   "metadata": {},
   "outputs": [
    {
     "name": "stdout",
     "output_type": "stream",
     "text": [
      "[91 23 67  3 64 61  2 52 91 70]\n",
      "['odd' 'odd' 'odd' 'odd' 'even' 'odd' 'even' 'even' 'odd' 'even']\n"
     ]
    }
   ],
   "source": [
    "arr=np.random.randint(1,100,10)\n",
    "print(arr)\n",
    "print(np.where(arr%2==0,'even','odd'))"
   ]
  },
  {
   "cell_type": "code",
   "execution_count": null,
   "metadata": {},
   "outputs": [],
   "source": []
  }
 ],
 "metadata": {
  "kernelspec": {
   "display_name": "base",
   "language": "python",
   "name": "python3"
  },
  "language_info": {
   "codemirror_mode": {
    "name": "ipython",
    "version": 3
   },
   "file_extension": ".py",
   "mimetype": "text/x-python",
   "name": "python",
   "nbconvert_exporter": "python",
   "pygments_lexer": "ipython3",
   "version": "3.11.7"
  }
 },
 "nbformat": 4,
 "nbformat_minor": 2
}
